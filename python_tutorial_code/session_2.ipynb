{
 "cells": [
  {
   "cell_type": "code",
   "execution_count": null,
   "id": "25427879",
   "metadata": {},
   "outputs": [
    {
     "data": {
      "text/plain": [
       "list"
      ]
     },
     "execution_count": 1,
     "metadata": {},
     "output_type": "execute_result"
    }
   ],
   "source": [
    "# Lists - > stores of things (numbers, columns, allowed gender codes, placement codes)\n",
    "# use to clean up tabular data e.g. finding data that isn't what it should be used in CIN and 903 validators\n",
    "\n",
    "# Dictionaries -> store variables or other things in key : value pairs\n",
    "# to store and access things easily\n",
    "# in a bit of a structure e.g.annex A list 1: headers, list 2: headers (bit like a filepath)\n",
    "\n"
   ]
  },
  {
   "cell_type": "code",
   "execution_count": null,
   "id": "a7b7bc6d",
   "metadata": {},
   "outputs": [],
   "source": [
    "# to tell python it's a list use square brackets\n",
    "\n",
    "list_1 = []\n",
    "\n",
    "type(list_1)\n"
   ]
  },
  {
   "cell_type": "code",
   "execution_count": null,
   "id": "4ac7ac00",
   "metadata": {},
   "outputs": [
    {
     "data": {
      "text/plain": [
       "['red']"
      ]
     },
     "execution_count": 3,
     "metadata": {},
     "output_type": "execute_result"
    }
   ],
   "source": [
    "#example colours\n",
    "\n",
    "cols_1 = [\"red\",\"blue\",\"purple\"]\n",
    "\n",
    "#to check type\n",
    "type(cols_1)\n",
    "\n",
    "#to_print out\n",
    "cols_1"
   ]
  },
  {
   "cell_type": "code",
   "execution_count": null,
   "id": "6dd121b8",
   "metadata": {},
   "outputs": [],
   "source": [
    "cols_1 = [\"red\", \"blue\", [\"green\", \"turquoise\", \"beige\"], 10]\n",
    "cols_2 = [\"purple\", \"orange\", cols_1, 100]\n",
    "\n",
    "# cols_1[2][::2]\n",
    "\n",
    "cols_2[2][2][1]"
   ]
  },
  {
   "cell_type": "code",
   "execution_count": null,
   "id": "d4f342b9",
   "metadata": {},
   "outputs": [],
   "source": [
    "#lists inside lists\n",
    "\n",
    "cols_1 = [\"red\", \"blue\", [\"green\", \"turquoise\", \"beige\"], 10]\n",
    "cols_2 = [\"purple\", \"orange\", cols_1, 100]\n",
    "\n",
    "# cols_1[2][::2]\n",
    "\n",
    "cols_2[2][2][1]"
   ]
  },
  {
   "cell_type": "code",
   "execution_count": null,
   "id": "6929cffb",
   "metadata": {},
   "outputs": [],
   "source": [
    "# Write a list which contains:\n",
    "# a float, an integer, a string, and another list which itself contains strings\n",
    "list_2 = [11.12, 20, \"this is a string\", [\"String1\", \"String 2\"]]\n",
    "#use the square bracket notation to slice out and print the last string from the\n",
    "#list inside the list (try and do it using a minus rather than a normal number)\n",
    "# varible as standard are: lower case words, with _ between\n",
    "\n",
    "sub_list = list_2[-1][-1]\n",
    " \n",
    "sub_list\n",
    "\n"
   ]
  },
  {
   "cell_type": "code",
   "execution_count": null,
   "id": "d521de69",
   "metadata": {},
   "outputs": [
    {
     "name": "stdout",
     "output_type": "stream",
     "text": [
      "['red', 'blue']\n",
      "['red', 'blue', 'brown']\n"
     ]
    }
   ],
   "source": [
    " \n",
    "# Functions and Methods\n",
    "# print(arguments) <- ean example of a function\n",
    "# variable_of_type.method() <- method \n",
    "# .append(), .extend(), .remove() (.sort(), sort())\n",
    "cols_1 = [\"red\", \"blue\", \"red\"]\n",
    "print(cols_1)\n",
    "cols_1.append(\"brown\") # mutates\n",
    "print(cols_1)\n",
    "cols_2 = [\"purple\", \"orange\"]\n",
    "cols_1.append(cols_2) # adds stuff to lists as a single element\n",
    "print(cols_1)\n",
    "cols_1.extend(cols_2) # adds adds iterables as individual elements\n",
    "print(cols_1)\n",
    "cols_1.extend(\"brown\")\n",
    "print(cols_1)\n",
    "cols_1.remove(\"purple\") # removes only 1 element with a given value\n",
    "print(cols_1)\n"
   ]
  },
  {
   "cell_type": "code",
   "execution_count": null,
   "id": "65eb1874",
   "metadata": {},
   "outputs": [],
   "source": [
    "# exercise 2\n",
    "# In this cell, make a list of a few foods and print it.\n",
    "foods = [\"burger\",\"pizza\",\"pasta\"]\n",
    "# Then append the list with another food and print it.\n",
    "# Next, make another list of foods, and use the extend method to \n",
    "# add those extra foods as individual elements of the list, and print it.\n",
    "# Finally, remove and element from the list and print the final list.\n",
    "# Remember to always use a suitable name for your lists!\n",
    " \n"
   ]
  },
  {
   "cell_type": "code",
   "execution_count": null,
   "id": "1b1c7126",
   "metadata": {},
   "outputs": [
    {
     "data": {
      "text/plain": [
       "{'monday': 'blue', 'sunday': 'orange', 'other days': 'white'}"
      ]
     },
     "execution_count": 10,
     "metadata": {},
     "output_type": "execute_result"
    }
   ],
   "source": [
    "#dictionaries\n",
    "#key : value\n",
    "# keys MUST be immutable not mutable - > keys must be either a sttring or a number\n",
    "\n",
    "favourite_colours = {\"Will\":\"purple\",\n",
    "                     \"Andy\":[\"teal\", \"red\"],\n",
    "                     #key value pair with other inside it\n",
    "                     \"Naiomi\":{\"monday\":\"blue\", \"sunday\":\"orange\", \"other days\":\"white\"}\n",
    "                     }\n",
    "\n",
    "# type(favourite_colours)\n",
    "\n",
    "favourite_colours\n",
    "\n",
    "favourite_colours [\"Will\"] #accessing dictionaRIES BY kEY\n",
    "\n",
    "favourite_colours [\"Naiomi\"]\n",
    "\n",
    "favourite_colours [\"Naiomi\"][\"Monday\"][0] #accessing nested elements\n",
    "\n",
    "list(favourite)\n",
    " "
   ]
  },
  {
   "cell_type": "code",
   "execution_count": null,
   "id": "2d7170c9",
   "metadata": {},
   "outputs": [
    {
     "data": {
      "text/plain": [
       "'blue'"
      ]
     },
     "execution_count": 14,
     "metadata": {},
     "output_type": "execute_result"
    }
   ],
   "source": [
    " \n",
    " # key : value\n",
    "# keys MUSt be immuatable not mutatable -> keys must be either a string or a number\n",
    "fav_colours = {\"Will\":\"black\", \n",
    "               \"Clare\":\"yellow\",\n",
    "               \"Marcel\":{\"Monday\":[\"blue\", \"yellow\"],\n",
    "                         \"RoW\":\"Grey\"}}\n",
    "type(fav_colours)\n",
    "fav_colours[\"Will\"] # accessing dicitonaries by key\n",
    "fav_colours[\"Marcel\"][\"Monday\"][0] # accessing nested elements\n",
    " list(fav_colours.keys())\n",
    "#list(fav_colours.values())\n",
    "#list(fav_colours.items()) # returns tuples\n",
    "\n",
    " "
   ]
  },
  {
   "cell_type": "code",
   "execution_count": null,
   "id": "995a6a4e",
   "metadata": {},
   "outputs": [],
   "source": [
    " \n",
    " # key : value\n",
    "# keys MUSt be immuatable not mutatable -> keys must be either a string or a number\n",
    "fav_colours = {\"Will\":\"black\", \n",
    "               \"Clare\":\"yellow\",\n",
    "               \"Marcel\":{\"Monday\":[\"blue\", \"yellow\"],\n",
    "                         \"RoW\":\"Grey\"}}\n",
    "# type(fav_colours)\n",
    "fav_colours[\"Will\"] # accessing dicitonaries by key\n",
    "fav_colours[\"Marcel\"][\"Monday\"][0] # accessing nested elements\n",
    "list(fav_colours.keys())\n",
    "list(fav_colours.values())\n",
    "list(fav_colours.items()) # returns tuples\n",
    "# make a dictionary of restaurants with keys being the name and values being the foods,\n",
    "# make sure at least one value is a list of foods, and another is a dicitonary of days and foods\n",
    "# use the keys, vlaues, and items methods to views those\n",
    " "
   ]
  },
  {
   "cell_type": "code",
   "execution_count": null,
   "id": "9b5ad649",
   "metadata": {},
   "outputs": [],
   "source": [
    "# Using the key, print the values of one of the restaurants in your dicitonary.\n",
    "# Add a new key:value pair to your dictionary, as above.\n",
    "# Check whether 'Coffee Shop' is a key in your dictionary, printing the answer.\n",
    "\n",
    "foods = {\"Pub\":\"Sunday Roast\",\n",
    "         \"The Chippy\":[\"Fish\", \"Chips\"],\n",
    "         \"Restaurant\":{\"Week days\":\"Limited menu\",\n",
    "                       \"Weekends\":\"Tasting Menu\"}}\n",
    "\n",
    "foods['Pub']\n",
    "foods['Bakrey'] = \"Breads\"\n",
    "print(\"Coffee Shop\" in foods)"
   ]
  },
  {
   "cell_type": "code",
   "execution_count": null,
   "id": "940adaa0",
   "metadata": {},
   "outputs": [
    {
     "name": "stdout",
     "output_type": "stream",
     "text": [
      "{'Will': ('purple', 'black'), 'Clare': 'yellow', 'Marcel': {'Monday': ['blue', 'yellow'], 'RoW': 'Grey'}, 'Andrew': 'black'}\n"
     ]
    }
   ],
   "source": [
    "fav_colours = {\"Will\":\"black\", \n",
    "               \"Clare\":\"yellow\",\n",
    "               \"Marcel\":{\"Monday\":[\"blue\", \"yellow\"],\n",
    "                         \"RoW\":\"Grey\"}}\n",
    "\n",
    "fav_colours[\"Andrew\"] = \"black\" # this notation is the same for columns when working with tab data\n",
    "fav_colours[\"Will\"] = \"purple\",\"black\"\n",
    "print(fav_colours)\n",
    "\n",
    "print (\"Will\" in fav_colours)"
   ]
  },
  {
   "cell_type": "code",
   "execution_count": null,
   "id": "49b36aa6",
   "metadata": {},
   "outputs": [],
   "source": [
    " \n",
    "fav_colours = {\"Will\":\"black\", \n",
    "               \"Clare\":\"yellow\",\n",
    "               \"Marcel\":{\"Monday\":[\"blue\", \"yellow\"],\n",
    "                         \"RoW\":\"Grey\"}}\n",
    "fav_colours[\"Andrew\"] = \"black\" # this notation is the same for columns when working with tab. data\n",
    "print(fav_colours)\n",
    "fav_colours['Will'] = [\"purple\", \"black\"]\n",
    "print(fav_colours)\n",
    "print(\"Will\" in fav_colours)\n",
    "print(\"Naiomi\" in fav_colours)\n",
    "\n",
    "# Using the key, print the values of one of the restaurants in your dicitonary.\n",
    "# Add a new key:value pair to your dictionary, as above.\n",
    "# Check whether 'Coffee Shop' is a key in your dictionary, printing the answer.\n",
    " # Using the key, print the values of one of the restaurants in your dicitonary.\n",
    "# Add a new key:value pair to your dictionary, as above.\n",
    "# Check whether 'Coffee Shop' is a key in your dictionary, printing the answer.\n",
    "\n",
    "foods = {\"Pub\":\"Sunday Roast\",\n",
    "         \"The Chippy\":[\"Fish\", \"Chips\"],\n",
    "         \"Restaurant\":{\"Week days\":\"Limited menu\",\n",
    "                       \"Weekends\":\"Tasting Menu\"}}\n",
    "\n",
    "foods['Pub']\n",
    "foods['Bakrey'] = \"Breads\"\n",
    "print(\"Coffee Shop\" in foods)"
   ]
  },
  {
   "cell_type": "code",
   "execution_count": null,
   "id": "62e584ce",
   "metadata": {},
   "outputs": [],
   "source": []
  }
 ],
 "metadata": {
  "kernelspec": {
   "display_name": "Python 3",
   "language": "python",
   "name": "python3"
  },
  "language_info": {
   "codemirror_mode": {
    "name": "ipython",
    "version": 3
   },
   "file_extension": ".py",
   "mimetype": "text/x-python",
   "name": "python",
   "nbconvert_exporter": "python",
   "pygments_lexer": "ipython3",
   "version": "3.12.1"
  }
 },
 "nbformat": 4,
 "nbformat_minor": 5
}
