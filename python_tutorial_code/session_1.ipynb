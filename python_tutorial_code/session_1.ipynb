{
 "cells": [
  {
   "cell_type": "code",
   "execution_count": null,
   "id": "6622f707",
   "metadata": {},
   "outputs": [
    {
     "data": {
      "text/plain": [
       "str"
      ]
     },
     "execution_count": 9,
     "metadata": {},
     "output_type": "execute_result"
    }
   ],
   "source": [
    "num_1 = 7\n",
    "\n",
    "num_2 = 10\n",
    "\n",
    "answer = num_1 + num_2\n",
    "\n",
    "answer_str = str(answer)\n",
    "\n",
    "# '' and \"\" for text - use \"\" where ' exists in the data, use '' when it doesn't or there's \"\" in the data\n",
    "\n",
    "#int, integer\n",
    "#str, string\n",
    "#float\n",
    "# * times\n",
    "# / divide\n",
    "# = plus\n",
    "# - minus\n",
    "\n",
    "#to check variable\n",
    "\n",
    "type(answer_str)\n",
    "\n",
    "#can change to str, int etc by prefixing eg below\n",
    "\n",
    "answer_str = str(answer)\n",
    "\n",
    "#pi x radius squared\n"
   ]
  },
  {
   "cell_type": "code",
   "execution_count": 12,
   "id": "d2437450",
   "metadata": {},
   "outputs": [
    {
     "data": {
      "text/plain": [
       "48"
      ]
     },
     "execution_count": 12,
     "metadata": {},
     "output_type": "execute_result"
    }
   ],
   "source": [
    "#In the cell, initialise two numeric variable and their product\n",
    "\n",
    "num_1 = 8\n",
    "\n",
    "num_2 = 6\n",
    "\n",
    "#using the * operator for the multiplecation and assign this to a variable\n",
    "\n",
    "answer = num_1 * num_2\n",
    "\n",
    "# print the variable\n",
    "\n",
    "answer\n",
    "\n"
   ]
  },
  {
   "cell_type": "code",
   "execution_count": null,
   "id": "94fb451b",
   "metadata": {},
   "outputs": [
    {
     "data": {
      "text/plain": [
       "12.56"
      ]
     },
     "execution_count": 15,
     "metadata": {},
     "output_type": "execute_result"
    }
   ],
   "source": [
    "#the raduis of a circle is 2, assume that pi is 3.14 assign both of these to suitably named variables\n",
    "\n",
    "r = 2\n",
    "\n",
    "pi = 3.14\n",
    "\n",
    "# find the area of the circle\n",
    "#we can find the area of the crcle by finding the product of pi with the raduis squared\n",
    "#google answers where necessary\n",
    "#squared is **2 cubed is **3\n",
    "#pi * radius squared\n",
    "\n",
    "area = pi * r ** 2\n",
    "\n",
    "#can use parentheses e.g. area = pi * (r ** 2)\n",
    "\n",
    "area"
   ]
  },
  {
   "cell_type": "code",
   "execution_count": 28,
   "id": "0672902b",
   "metadata": {},
   "outputs": [
    {
     "data": {
      "text/plain": [
       "\"Hi my name is Ali, and I'm a Performance Analyst\""
      ]
     },
     "execution_count": 28,
     "metadata": {},
     "output_type": "execute_result"
    }
   ],
   "source": [
    "#strings\n",
    "name = \"Ali\"\n",
    "job = \"Performance Analyst\"\n",
    "\n",
    "#instead of name_job = name + \" \" + job use below\n",
    "#name_job = f\"{name}, {job}\"\n",
    "#or use the below\n",
    "name_job = f\"Hi my name is {name}, and I'm a {job}\"\n",
    "\n",
    "\n",
    "name_job "
   ]
  },
  {
   "cell_type": "code",
   "execution_count": null,
   "id": "69f97172",
   "metadata": {},
   "outputs": [
    {
     "data": {
      "text/plain": [
       "'aly'"
      ]
     },
     "execution_count": 32,
     "metadata": {},
     "output_type": "execute_result"
    }
   ],
   "source": [
    "#strings phases\n",
    "#iterable\n",
    "#iterate over\n",
    "#things that has parts that can be accessed one at a time\n",
    "#rows\n",
    "#columns\n",
    "#lists of data\n",
    "\n",
    "#counting in python starts at 0\n",
    "#[start : stop]\n",
    "#start is inclusive\n",
    "#stop is exclusive\n",
    "\n",
    "phrase = name_job\n",
    "\n",
    "#starting at 2 is space (remember starts at 0) ending on m (end is exclusive)\n",
    "phrase[2:5]\n",
    "\n",
    "\n",
    "#to start from the right use a m miunus\n",
    "\n",
    "phrase[-5:-2]\n"
   ]
  },
  {
   "cell_type": "code",
   "execution_count": null,
   "id": "c0373124",
   "metadata": {},
   "outputs": [
    {
     "data": {
      "text/plain": [
       "'list_1'"
      ]
     },
     "execution_count": 36,
     "metadata": {},
     "output_type": "execute_result"
    }
   ],
   "source": [
    "#an other e.g.\n",
    "filename = \"ssda903_list_1.csv\"\n",
    "\n",
    "short_fn = filename[8:-4]\n",
    "\n",
    "short_fn"
   ]
  }
 ],
 "metadata": {
  "kernelspec": {
   "display_name": "Python 3",
   "language": "python",
   "name": "python3"
  },
  "language_info": {
   "codemirror_mode": {
    "name": "ipython",
    "version": 3
   },
   "file_extension": ".py",
   "mimetype": "text/x-python",
   "name": "python",
   "nbconvert_exporter": "python",
   "pygments_lexer": "ipython3",
   "version": "3.12.1"
  }
 },
 "nbformat": 4,
 "nbformat_minor": 5
}
